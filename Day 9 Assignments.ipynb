{
 "cells": [
  {
   "cell_type": "markdown",
   "metadata": {},
   "source": [
    "(1.) for the challenge you need to develop a python program to open a file in read only made and try writing something to it and handle the subsequent errors using Exceptions Handling"
   ]
  },
  {
   "cell_type": "code",
   "execution_count": 5,
   "metadata": {},
   "outputs": [
    {
     "name": "stdout",
     "output_type": "stream",
     "text": [
      "Overwriting moduleAnkit.py\n"
     ]
    }
   ],
   "source": [
    "%%writefile moduleAnkit.py\n",
    "print(\"this is my first module\")\n"
   ]
  },
  {
   "cell_type": "code",
   "execution_count": 6,
   "metadata": {},
   "outputs": [
    {
     "name": "stdout",
     "output_type": "stream",
     "text": [
      "this is my first module\n",
      "this is my first importing \n"
     ]
    }
   ],
   "source": [
    "import moduleAnkit\n",
    "\n",
    "print(\"this is my first importing \")"
   ]
  },
  {
   "cell_type": "code",
   "execution_count": 7,
   "metadata": {},
   "outputs": [
    {
     "ename": "SyntaxError",
     "evalue": "unexpected EOF while parsing (<ipython-input-7-771680b6f945>, line 3)",
     "output_type": "error",
     "traceback": [
      "\u001b[1;36m  File \u001b[1;32m\"<ipython-input-7-771680b6f945>\"\u001b[1;36m, line \u001b[1;32m3\u001b[0m\n\u001b[1;33m    \u001b[0m\n\u001b[1;37m    ^\u001b[0m\n\u001b[1;31mSyntaxError\u001b[0m\u001b[1;31m:\u001b[0m unexpected EOF while parsing\n"
     ]
    }
   ],
   "source": [
    "try:\n",
    "    print(x)\n",
    "\n"
   ]
  },
  {
   "cell_type": "code",
   "execution_count": 8,
   "metadata": {},
   "outputs": [
    {
     "name": "stdout",
     "output_type": "stream",
     "text": [
      "exception happend\n"
     ]
    }
   ],
   "source": [
    "try:\n",
    "    print(x)\n",
    "except:\n",
    "    print(\"exception happend\")"
   ]
  },
  {
   "cell_type": "code",
   "execution_count": null,
   "metadata": {},
   "outputs": [],
   "source": []
  },
  {
   "cell_type": "markdown",
   "metadata": {},
   "source": [
    "(2.) write a python function for finding is a given number prime or not and do unit testing on it using PyLint & Unittest Library.\n"
   ]
  },
  {
   "cell_type": "code",
   "execution_count": 1,
   "metadata": {},
   "outputs": [
    {
     "name": "stdout",
     "output_type": "stream",
     "text": [
      "Requirement already satisfied: pylint in c:\\programdata\\anaconda3\\lib\\site-packages (2.5.3)\n",
      "Requirement already satisfied: colorama; sys_platform == \"win32\" in c:\\programdata\\anaconda3\\lib\\site-packages (from pylint) (0.4.3)\n",
      "Requirement already satisfied: astroid<=2.5,>=2.4.0 in c:\\programdata\\anaconda3\\lib\\site-packages (from pylint) (2.4.2)\n",
      "Requirement already satisfied: toml>=0.7.1 in c:\\programdata\\anaconda3\\lib\\site-packages (from pylint) (0.10.1)\n",
      "Requirement already satisfied: mccabe<0.7,>=0.6 in c:\\programdata\\anaconda3\\lib\\site-packages (from pylint) (0.6.1)\n",
      "Requirement already satisfied: isort<5,>=4.2.5 in c:\\programdata\\anaconda3\\lib\\site-packages (from pylint) (4.3.21)\n",
      "Requirement already satisfied: lazy-object-proxy==1.4.* in c:\\programdata\\anaconda3\\lib\\site-packages (from astroid<=2.5,>=2.4.0->pylint) (1.4.3)\n",
      "Requirement already satisfied: six~=1.12 in c:\\programdata\\anaconda3\\lib\\site-packages (from astroid<=2.5,>=2.4.0->pylint) (1.15.0)\n",
      "Requirement already satisfied: wrapt~=1.11 in c:\\programdata\\anaconda3\\lib\\site-packages (from astroid<=2.5,>=2.4.0->pylint) (1.11.2)\n"
     ]
    }
   ],
   "source": [
    "!pip install pylint"
   ]
  },
  {
   "cell_type": "code",
   "execution_count": 2,
   "metadata": {},
   "outputs": [
    {
     "name": "stdout",
     "output_type": "stream",
     "text": [
      "Overwriting primeNumber.py\n"
     ]
    }
   ],
   "source": [
    "%%writefile primeNumber.py\n",
    "\n",
    "for item in range(1,100):\n",
    "    if item%2==0:\n",
    "        print(item, \"is prime number\")\n",
    "\n",
    "    else:\n",
    "        print(item, \"is composite number \")\n",
    "    "
   ]
  },
  {
   "cell_type": "code",
   "execution_count": 4,
   "metadata": {},
   "outputs": [
    {
     "name": "stdout",
     "output_type": "stream",
     "text": [
      "1 is composite number \n",
      "2 is prime number\n",
      "3 is composite number \n",
      "4 is prime number\n",
      "5 is composite number \n",
      "6 is prime number\n",
      "7 is composite number \n",
      "8 is prime number\n",
      "9 is composite number \n",
      "10 is prime number\n",
      "11 is composite number \n",
      "12 is prime number\n",
      "13 is composite number \n",
      "14 is prime number\n",
      "15 is composite number \n",
      "16 is prime number\n",
      "17 is composite number \n",
      "18 is prime number\n",
      "19 is composite number \n",
      "20 is prime number\n",
      "21 is composite number \n",
      "22 is prime number\n",
      "23 is composite number \n",
      "24 is prime number\n",
      "25 is composite number \n",
      "26 is prime number\n",
      "27 is composite number \n",
      "28 is prime number\n",
      "29 is composite number \n",
      "30 is prime number\n",
      "31 is composite number \n",
      "32 is prime number\n",
      "33 is composite number \n",
      "34 is prime number\n",
      "35 is composite number \n",
      "36 is prime number\n",
      "37 is composite number \n",
      "38 is prime number\n",
      "39 is composite number \n",
      "40 is prime number\n",
      "41 is composite number \n",
      "42 is prime number\n",
      "43 is composite number \n",
      "44 is prime number\n",
      "45 is composite number \n",
      "46 is prime number\n",
      "47 is composite number \n",
      "48 is prime number\n",
      "49 is composite number \n",
      "50 is prime number\n",
      "51 is composite number \n",
      "52 is prime number\n",
      "53 is composite number \n",
      "54 is prime number\n",
      "55 is composite number \n",
      "56 is prime number\n",
      "57 is composite number \n",
      "58 is prime number\n",
      "59 is composite number \n",
      "60 is prime number\n",
      "61 is composite number \n",
      "62 is prime number\n",
      "63 is composite number \n",
      "64 is prime number\n",
      "65 is composite number \n",
      "66 is prime number\n",
      "67 is composite number \n",
      "68 is prime number\n",
      "69 is composite number \n",
      "70 is prime number\n",
      "71 is composite number \n",
      "72 is prime number\n",
      "73 is composite number \n",
      "74 is prime number\n",
      "75 is composite number \n",
      "76 is prime number\n",
      "77 is composite number \n",
      "78 is prime number\n",
      "79 is composite number \n",
      "80 is prime number\n",
      "81 is composite number \n",
      "82 is prime number\n",
      "83 is composite number \n",
      "84 is prime number\n",
      "85 is composite number \n",
      "86 is prime number\n",
      "87 is composite number \n",
      "88 is prime number\n",
      "89 is composite number \n",
      "90 is prime number\n",
      "91 is composite number \n",
      "92 is prime number\n",
      "93 is composite number \n",
      "94 is prime number\n",
      "95 is composite number \n",
      "96 is prime number\n",
      "97 is composite number \n",
      "98 is prime number\n",
      "99 is composite number \n"
     ]
    }
   ],
   "source": [
    "! python primeNumber.py"
   ]
  },
  {
   "cell_type": "code",
   "execution_count": null,
   "metadata": {},
   "outputs": [],
   "source": []
  }
 ],
 "metadata": {
  "kernelspec": {
   "display_name": "Python 3",
   "language": "python",
   "name": "python3"
  },
  "language_info": {
   "codemirror_mode": {
    "name": "ipython",
    "version": 3
   },
   "file_extension": ".py",
   "mimetype": "text/x-python",
   "name": "python",
   "nbconvert_exporter": "python",
   "pygments_lexer": "ipython3",
   "version": "3.8.3"
  }
 },
 "nbformat": 4,
 "nbformat_minor": 4
}
