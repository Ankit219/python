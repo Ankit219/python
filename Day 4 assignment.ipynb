{
 "cells": [
  {
   "cell_type": "markdown",
   "metadata": {},
   "source": [
    "# question:- Print the first Armstrong number in the range of 1042000 to 702648265 and exit the loop as soon you encounter the first armstrong number."
   ]
  },
  {
   "cell_type": "code",
   "execution_count": null,
   "metadata": {},
   "outputs": [
    {
     "name": "stdout",
     "output_type": "stream",
     "text": [
      "first Arsmstrong Number - 1042000\n"
     ]
    }
   ],
   "source": [
    "i = 1042000\n",
    "\n",
    "while i < 702648265:\n",
    "    if i%2==0:\n",
    "        print(\"first Arsmstrong Number -\", i)\n",
    "    i =1"
   ]
  }
 ],
 "metadata": {
  "kernelspec": {
   "display_name": "Python 3",
   "language": "python",
   "name": "python3"
  },
  "language_info": {
   "codemirror_mode": {
    "name": "ipython",
    "version": 3
   },
   "file_extension": ".py",
   "mimetype": "text/x-python",
   "name": "python",
   "nbconvert_exporter": "python",
   "pygments_lexer": "ipython3",
   "version": "3.8.3"
  }
 },
 "nbformat": 4,
 "nbformat_minor": 4
}
