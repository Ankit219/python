{
 "cells": [
  {
   "cell_type": "markdown",
   "metadata": {},
   "source": [
    "# Day 6 assignment - oops"
   ]
  },
  {
   "cell_type": "code",
   "execution_count": 1,
   "metadata": {},
   "outputs": [],
   "source": [
    "class  Account():\n",
    "    def __init__(self,name,AccountType,balance,deposit,withdrawal):\n",
    "        self.name = name\n",
    "        self.AccountType = AccountType\n",
    "        self.balance = balance\n",
    "        self.deposit = deposit\n",
    "        self.withdrawal = withdrawal\n",
    "        \n",
    "    def getdetails(self):\n",
    "        print(\"name - \", self.name)\n",
    "        print(\"Account Types - \", self.AccountType)\n",
    "        print(\"balance - \",self.balance)\n",
    "        print(\"deposit - \",self.deposit)\n",
    "        print(\"withdrawal - \",self.withdrawal)"
   ]
  },
  {
   "cell_type": "code",
   "execution_count": 2,
   "metadata": {},
   "outputs": [],
   "source": [
    "SBI = Account(\"Ankit Tigga\",\"Saving\",\"1000\",\"200,300,100,400\",\"!>1000\")"
   ]
  },
  {
   "cell_type": "code",
   "execution_count": 3,
   "metadata": {},
   "outputs": [
    {
     "name": "stdout",
     "output_type": "stream",
     "text": [
      "name -  Ankit Tigga\n",
      "Account Types -  Saving\n",
      "balance -  1000\n",
      "deposit -  200,300,100,400\n",
      "withdrawal -  !>1000\n"
     ]
    }
   ],
   "source": [
    "SBI.getdetails()"
   ]
  },
  {
   "cell_type": "code",
   "execution_count": 4,
   "metadata": {},
   "outputs": [
    {
     "data": {
      "text/plain": [
       "'Saving'"
      ]
     },
     "execution_count": 4,
     "metadata": {},
     "output_type": "execute_result"
    }
   ],
   "source": [
    "SBI.AccountType"
   ]
  },
  {
   "cell_type": "code",
   "execution_count": 5,
   "metadata": {},
   "outputs": [
    {
     "data": {
      "text/plain": [
       "'Ankit Tigga'"
      ]
     },
     "execution_count": 5,
     "metadata": {},
     "output_type": "execute_result"
    }
   ],
   "source": [
    "SBI.name"
   ]
  },
  {
   "cell_type": "code",
   "execution_count": 6,
   "metadata": {},
   "outputs": [
    {
     "data": {
      "text/plain": [
       "'1000'"
      ]
     },
     "execution_count": 6,
     "metadata": {},
     "output_type": "execute_result"
    }
   ],
   "source": [
    "SBI.balance"
   ]
  }
 ],
 "metadata": {
  "kernelspec": {
   "display_name": "Python 3",
   "language": "python",
   "name": "python3"
  },
  "language_info": {
   "codemirror_mode": {
    "name": "ipython",
    "version": 3
   },
   "file_extension": ".py",
   "mimetype": "text/x-python",
   "name": "python",
   "nbconvert_exporter": "python",
   "pygments_lexer": "ipython3",
   "version": "3.8.3"
  }
 },
 "nbformat": 4,
 "nbformat_minor": 4
}
